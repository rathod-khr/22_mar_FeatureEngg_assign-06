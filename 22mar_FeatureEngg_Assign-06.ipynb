{
 "cells": [
  {
   "cell_type": "markdown",
   "id": "81578320-74c8-4e78-950e-82e84d087350",
   "metadata": {},
   "source": [
    "**Q1. Pearson correlation coefficient is a measure of the linear relationship between two variables. Suppose \n",
    "you have collected data on the amount of time students spend studying for an exam and their final exa \r\n",
    "scores. Calculate the Pearson correlation coefficient between these two variables and interpret the resu.** t."
   ]
  },
  {
   "cell_type": "code",
   "execution_count": 14,
   "id": "f9ef6586-16d1-47cd-81f0-1899183e37c4",
   "metadata": {},
   "outputs": [
    {
     "data": {
      "text/html": [
       "<div>\n",
       "<style scoped>\n",
       "    .dataframe tbody tr th:only-of-type {\n",
       "        vertical-align: middle;\n",
       "    }\n",
       "\n",
       "    .dataframe tbody tr th {\n",
       "        vertical-align: top;\n",
       "    }\n",
       "\n",
       "    .dataframe thead th {\n",
       "        text-align: right;\n",
       "    }\n",
       "</style>\n",
       "<table border=\"1\" class=\"dataframe\">\n",
       "  <thead>\n",
       "    <tr style=\"text-align: right;\">\n",
       "      <th></th>\n",
       "      <th>study_hrs</th>\n",
       "      <th>final_score</th>\n",
       "    </tr>\n",
       "  </thead>\n",
       "  <tbody>\n",
       "    <tr>\n",
       "      <th>study_hrs</th>\n",
       "      <td>1.000000</td>\n",
       "      <td>0.491516</td>\n",
       "    </tr>\n",
       "    <tr>\n",
       "      <th>final_score</th>\n",
       "      <td>0.491516</td>\n",
       "      <td>1.000000</td>\n",
       "    </tr>\n",
       "  </tbody>\n",
       "</table>\n",
       "</div>"
      ],
      "text/plain": [
       "             study_hrs  final_score\n",
       "study_hrs     1.000000     0.491516\n",
       "final_score   0.491516     1.000000"
      ]
     },
     "execution_count": 14,
     "metadata": {},
     "output_type": "execute_result"
    }
   ],
   "source": [
    "import pandas as pd\n",
    "import numpy as np\n",
    "\n",
    "#creating a dataframe\n",
    "df=pd.DataFrame({'study_hrs':[7,8,6,9,7,5,7,8],'final_score':[69,89,54,77,82,73,59,81] })\n",
    "df.head()\n",
    "\n",
    "df.corr(method='pearson')\n",
    "#study hrs and final score of students are positively correlated."
   ]
  },
  {
   "cell_type": "code",
   "execution_count": null,
   "id": "96487d40-0926-481b-98a3-f27f4a05af77",
   "metadata": {},
   "outputs": [],
   "source": []
  },
  {
   "cell_type": "markdown",
   "id": "582012b0-7c69-4eed-b641-91301926e52d",
   "metadata": {},
   "source": [
    "**Q2. Spearman's rank correlation is a measure of the monotonic relationship between two variables. Suppose you have collected data on the amount of sleep individuals get each night and their overall job satisfaction level on a scale of 1 to 10. Calculate the Spearman's rank correlation between these two variables and interpret the result.**"
   ]
  },
  {
   "cell_type": "code",
   "execution_count": 15,
   "id": "637662c4-0117-41de-93a9-48032227d15d",
   "metadata": {},
   "outputs": [],
   "source": [
    "df=pd.DataFrame({'sleep_hrs':[7,8,6,9,7,5,7,8],'job_satisfaction':[8,8,5,7,5,7,6,5] })"
   ]
  },
  {
   "cell_type": "code",
   "execution_count": 16,
   "id": "22d82c3a-181b-4ca4-be9f-9aed33b33a9c",
   "metadata": {},
   "outputs": [
    {
     "data": {
      "text/html": [
       "<div>\n",
       "<style scoped>\n",
       "    .dataframe tbody tr th:only-of-type {\n",
       "        vertical-align: middle;\n",
       "    }\n",
       "\n",
       "    .dataframe tbody tr th {\n",
       "        vertical-align: top;\n",
       "    }\n",
       "\n",
       "    .dataframe thead th {\n",
       "        text-align: right;\n",
       "    }\n",
       "</style>\n",
       "<table border=\"1\" class=\"dataframe\">\n",
       "  <thead>\n",
       "    <tr style=\"text-align: right;\">\n",
       "      <th></th>\n",
       "      <th>sleep_hrs</th>\n",
       "      <th>job_satisfaction</th>\n",
       "    </tr>\n",
       "  </thead>\n",
       "  <tbody>\n",
       "    <tr>\n",
       "      <th>sleep_hrs</th>\n",
       "      <td>1.000000</td>\n",
       "      <td>0.184717</td>\n",
       "    </tr>\n",
       "    <tr>\n",
       "      <th>job_satisfaction</th>\n",
       "      <td>0.184717</td>\n",
       "      <td>1.000000</td>\n",
       "    </tr>\n",
       "  </tbody>\n",
       "</table>\n",
       "</div>"
      ],
      "text/plain": [
       "                  sleep_hrs  job_satisfaction\n",
       "sleep_hrs          1.000000          0.184717\n",
       "job_satisfaction   0.184717          1.000000"
      ]
     },
     "execution_count": 16,
     "metadata": {},
     "output_type": "execute_result"
    }
   ],
   "source": [
    "df.corr(method='spearman')"
   ]
  },
  {
   "cell_type": "markdown",
   "id": "9b63388c-9b2f-47c9-93fd-41f0e08294cc",
   "metadata": {},
   "source": [
    "Remark- job satisfaction and sleep hrs are not strongly related to each other"
   ]
  },
  {
   "cell_type": "code",
   "execution_count": null,
   "id": "b6964474-1e50-4da6-8602-dbf9434b21e0",
   "metadata": {},
   "outputs": [],
   "source": []
  },
  {
   "cell_type": "markdown",
   "id": "c11160aa-9888-4abe-bccf-341672b18117",
   "metadata": {},
   "source": [
    "**Q3. Suppose you are conducting a study to examine the relationship between the number of hours of exercise per week and body mass index (BMI) in a sample of adults. You collected data on both variables for 50 participants. Calculate the Pearson correlation coefficient and the Spearman's rank correlation between these two variables and compare the results.**"
   ]
  },
  {
   "cell_type": "code",
   "execution_count": 31,
   "id": "f5a9ec2c-bd3f-4b26-9193-24115ec4c89e",
   "metadata": {},
   "outputs": [
    {
     "data": {
      "text/html": [
       "<div>\n",
       "<style scoped>\n",
       "    .dataframe tbody tr th:only-of-type {\n",
       "        vertical-align: middle;\n",
       "    }\n",
       "\n",
       "    .dataframe tbody tr th {\n",
       "        vertical-align: top;\n",
       "    }\n",
       "\n",
       "    .dataframe thead th {\n",
       "        text-align: right;\n",
       "    }\n",
       "</style>\n",
       "<table border=\"1\" class=\"dataframe\">\n",
       "  <thead>\n",
       "    <tr style=\"text-align: right;\">\n",
       "      <th></th>\n",
       "      <th>exercise_hours</th>\n",
       "      <th>BMI</th>\n",
       "    </tr>\n",
       "  </thead>\n",
       "  <tbody>\n",
       "    <tr>\n",
       "      <th>0</th>\n",
       "      <td>5</td>\n",
       "      <td>27.5</td>\n",
       "    </tr>\n",
       "    <tr>\n",
       "      <th>1</th>\n",
       "      <td>3</td>\n",
       "      <td>23.8</td>\n",
       "    </tr>\n",
       "    <tr>\n",
       "      <th>2</th>\n",
       "      <td>6</td>\n",
       "      <td>29.1</td>\n",
       "    </tr>\n",
       "    <tr>\n",
       "      <th>3</th>\n",
       "      <td>2</td>\n",
       "      <td>26.2</td>\n",
       "    </tr>\n",
       "    <tr>\n",
       "      <th>4</th>\n",
       "      <td>4</td>\n",
       "      <td>24.9</td>\n",
       "    </tr>\n",
       "    <tr>\n",
       "      <th>5</th>\n",
       "      <td>5</td>\n",
       "      <td>28.3</td>\n",
       "    </tr>\n",
       "    <tr>\n",
       "      <th>6</th>\n",
       "      <td>4</td>\n",
       "      <td>26.7</td>\n",
       "    </tr>\n",
       "    <tr>\n",
       "      <th>7</th>\n",
       "      <td>6</td>\n",
       "      <td>22.5</td>\n",
       "    </tr>\n",
       "    <tr>\n",
       "      <th>8</th>\n",
       "      <td>2</td>\n",
       "      <td>30.2</td>\n",
       "    </tr>\n",
       "    <tr>\n",
       "      <th>9</th>\n",
       "      <td>3</td>\n",
       "      <td>28.7</td>\n",
       "    </tr>\n",
       "  </tbody>\n",
       "</table>\n",
       "</div>"
      ],
      "text/plain": [
       "   exercise_hours   BMI\n",
       "0               5  27.5\n",
       "1               3  23.8\n",
       "2               6  29.1\n",
       "3               2  26.2\n",
       "4               4  24.9\n",
       "5               5  28.3\n",
       "6               4  26.7\n",
       "7               6  22.5\n",
       "8               2  30.2\n",
       "9               3  28.7"
      ]
     },
     "execution_count": 31,
     "metadata": {},
     "output_type": "execute_result"
    }
   ],
   "source": [
    "df=pd.DataFrame({'exercise_hours':[5, 3, 6, 2, 4, 5, 4, 6, 2,3],'BMI':[27.5, 23.8, 29.1, 26.2, 24.9, 28.3, 26.7, 22.5, 30.2, 28.7]})\n",
    "df"
   ]
  },
  {
   "cell_type": "code",
   "execution_count": 37,
   "id": "62dca8b2-8450-4c6e-9127-ba16a53de8a5",
   "metadata": {},
   "outputs": [],
   "source": [
    "pearson_corr=df.corr(method='pearson')\n",
    "spearman_corr=df.corr(method='spearman')\n"
   ]
  },
  {
   "cell_type": "code",
   "execution_count": 38,
   "id": "1354d5f0-12b9-452c-848a-180f58730ed8",
   "metadata": {},
   "outputs": [
    {
     "data": {
      "text/html": [
       "<div>\n",
       "<style scoped>\n",
       "    .dataframe tbody tr th:only-of-type {\n",
       "        vertical-align: middle;\n",
       "    }\n",
       "\n",
       "    .dataframe tbody tr th {\n",
       "        vertical-align: top;\n",
       "    }\n",
       "\n",
       "    .dataframe thead th {\n",
       "        text-align: right;\n",
       "    }\n",
       "</style>\n",
       "<table border=\"1\" class=\"dataframe\">\n",
       "  <thead>\n",
       "    <tr style=\"text-align: right;\">\n",
       "      <th></th>\n",
       "      <th>exercise_hours</th>\n",
       "      <th>BMI</th>\n",
       "    </tr>\n",
       "  </thead>\n",
       "  <tbody>\n",
       "    <tr>\n",
       "      <th>exercise_hours</th>\n",
       "      <td>1.000000</td>\n",
       "      <td>-0.190526</td>\n",
       "    </tr>\n",
       "    <tr>\n",
       "      <th>BMI</th>\n",
       "      <td>-0.190526</td>\n",
       "      <td>1.000000</td>\n",
       "    </tr>\n",
       "  </tbody>\n",
       "</table>\n",
       "</div>"
      ],
      "text/plain": [
       "                exercise_hours       BMI\n",
       "exercise_hours        1.000000 -0.190526\n",
       "BMI                  -0.190526  1.000000"
      ]
     },
     "execution_count": 38,
     "metadata": {},
     "output_type": "execute_result"
    }
   ],
   "source": [
    "pearson_corr"
   ]
  },
  {
   "cell_type": "code",
   "execution_count": 39,
   "id": "7c6669b9-a750-40d1-bcdf-72137d2a7706",
   "metadata": {},
   "outputs": [
    {
     "data": {
      "text/html": [
       "<div>\n",
       "<style scoped>\n",
       "    .dataframe tbody tr th:only-of-type {\n",
       "        vertical-align: middle;\n",
       "    }\n",
       "\n",
       "    .dataframe tbody tr th {\n",
       "        vertical-align: top;\n",
       "    }\n",
       "\n",
       "    .dataframe thead th {\n",
       "        text-align: right;\n",
       "    }\n",
       "</style>\n",
       "<table border=\"1\" class=\"dataframe\">\n",
       "  <thead>\n",
       "    <tr style=\"text-align: right;\">\n",
       "      <th></th>\n",
       "      <th>exercise_hours</th>\n",
       "      <th>BMI</th>\n",
       "    </tr>\n",
       "  </thead>\n",
       "  <tbody>\n",
       "    <tr>\n",
       "      <th>exercise_hours</th>\n",
       "      <td>1.000000</td>\n",
       "      <td>-0.123091</td>\n",
       "    </tr>\n",
       "    <tr>\n",
       "      <th>BMI</th>\n",
       "      <td>-0.123091</td>\n",
       "      <td>1.000000</td>\n",
       "    </tr>\n",
       "  </tbody>\n",
       "</table>\n",
       "</div>"
      ],
      "text/plain": [
       "                exercise_hours       BMI\n",
       "exercise_hours        1.000000 -0.123091\n",
       "BMI                  -0.123091  1.000000"
      ]
     },
     "execution_count": 39,
     "metadata": {},
     "output_type": "execute_result"
    }
   ],
   "source": [
    "spearman_corr"
   ]
  },
  {
   "cell_type": "markdown",
   "id": "7741c168-78d9-4491-9bfb-2c40d92b4a08",
   "metadata": {},
   "source": [
    "Remark- pearson and spearman both shows negative correlation between exercise hrs ans BMI, the correlation is not very strongly"
   ]
  },
  {
   "cell_type": "markdown",
   "id": "0c6d0128-582f-4760-a361-20b1afe5bcfa",
   "metadata": {},
   "source": [
    "**Q4. A researcher is interested in examining the relationship between the number of hours individuals spend watching television per day and their level of physical activity. The researcher collected data on both variables from a sample of 50 participants. Calculate the Pearson correlation coefficient between\n",
    "these two variables.**"
   ]
  },
  {
   "cell_type": "code",
   "execution_count": 41,
   "id": "93650b9b-539a-4125-a568-2e0df29029f4",
   "metadata": {},
   "outputs": [
    {
     "data": {
      "text/html": [
       "<div>\n",
       "<style scoped>\n",
       "    .dataframe tbody tr th:only-of-type {\n",
       "        vertical-align: middle;\n",
       "    }\n",
       "\n",
       "    .dataframe tbody tr th {\n",
       "        vertical-align: top;\n",
       "    }\n",
       "\n",
       "    .dataframe thead th {\n",
       "        text-align: right;\n",
       "    }\n",
       "</style>\n",
       "<table border=\"1\" class=\"dataframe\">\n",
       "  <thead>\n",
       "    <tr style=\"text-align: right;\">\n",
       "      <th></th>\n",
       "      <th>tv_hours</th>\n",
       "      <th>physical_activity</th>\n",
       "    </tr>\n",
       "  </thead>\n",
       "  <tbody>\n",
       "    <tr>\n",
       "      <th>0</th>\n",
       "      <td>3</td>\n",
       "      <td>2</td>\n",
       "    </tr>\n",
       "    <tr>\n",
       "      <th>1</th>\n",
       "      <td>2</td>\n",
       "      <td>4</td>\n",
       "    </tr>\n",
       "    <tr>\n",
       "      <th>2</th>\n",
       "      <td>4</td>\n",
       "      <td>3</td>\n",
       "    </tr>\n",
       "    <tr>\n",
       "      <th>3</th>\n",
       "      <td>5</td>\n",
       "      <td>2</td>\n",
       "    </tr>\n",
       "    <tr>\n",
       "      <th>4</th>\n",
       "      <td>2</td>\n",
       "      <td>5</td>\n",
       "    </tr>\n",
       "  </tbody>\n",
       "</table>\n",
       "</div>"
      ],
      "text/plain": [
       "   tv_hours  physical_activity\n",
       "0         3                  2\n",
       "1         2                  4\n",
       "2         4                  3\n",
       "3         5                  2\n",
       "4         2                  5"
      ]
     },
     "execution_count": 41,
     "metadata": {},
     "output_type": "execute_result"
    }
   ],
   "source": [
    "df=pd.DataFrame({'tv_hours':[3, 2, 4, 5, 2, 3, 4, 1, 2, 5, 4, 3, 2, 3, 4, 5, 3, 2, 4, 5, 3, 2, 1, 4, 3, 2, 5, 4, 3, 2, 4, 5, 3, 2, 4, 5, 2, 3, 4, 5, 2, 3, 4, 1, 2, 5, 4, 3, 2, 3, 4],'physical_activity':[2, 4, 3, 2, 5, 2, 3, 4, 1, 3, 4, 2, 5, 3, 2, 4, 5, 3, 2, 4, 5, 3, 2, 4, 1, 3, 4, 2, 5, \n",
    "                     3, 2, 4, 5, 3, 2, 4, 1, 3, 4, 2, 5, 3, 2, 4, 5, 3, 2, 4, 1, 3, 4]})\n",
    "df.head()"
   ]
  },
  {
   "cell_type": "code",
   "execution_count": 42,
   "id": "14f1c3a6-81fd-4ff3-af44-144565e7b032",
   "metadata": {},
   "outputs": [],
   "source": [
    "pearson_corr=df.corr(method='pearson')\n",
    "spearman_corr=df.corr(method='spearman')"
   ]
  },
  {
   "cell_type": "code",
   "execution_count": 43,
   "id": "12626672-60ee-4b00-9dd1-8c14b9db5e99",
   "metadata": {},
   "outputs": [
    {
     "data": {
      "text/html": [
       "<div>\n",
       "<style scoped>\n",
       "    .dataframe tbody tr th:only-of-type {\n",
       "        vertical-align: middle;\n",
       "    }\n",
       "\n",
       "    .dataframe tbody tr th {\n",
       "        vertical-align: top;\n",
       "    }\n",
       "\n",
       "    .dataframe thead th {\n",
       "        text-align: right;\n",
       "    }\n",
       "</style>\n",
       "<table border=\"1\" class=\"dataframe\">\n",
       "  <thead>\n",
       "    <tr style=\"text-align: right;\">\n",
       "      <th></th>\n",
       "      <th>tv_hours</th>\n",
       "      <th>physical_activity</th>\n",
       "    </tr>\n",
       "  </thead>\n",
       "  <tbody>\n",
       "    <tr>\n",
       "      <th>tv_hours</th>\n",
       "      <td>1.000000</td>\n",
       "      <td>-0.053954</td>\n",
       "    </tr>\n",
       "    <tr>\n",
       "      <th>physical_activity</th>\n",
       "      <td>-0.053954</td>\n",
       "      <td>1.000000</td>\n",
       "    </tr>\n",
       "  </tbody>\n",
       "</table>\n",
       "</div>"
      ],
      "text/plain": [
       "                   tv_hours  physical_activity\n",
       "tv_hours           1.000000          -0.053954\n",
       "physical_activity -0.053954           1.000000"
      ]
     },
     "execution_count": 43,
     "metadata": {},
     "output_type": "execute_result"
    }
   ],
   "source": [
    "pearson_corr"
   ]
  },
  {
   "cell_type": "code",
   "execution_count": 44,
   "id": "aa22951f-b3c6-48ef-b785-7ce583a9874e",
   "metadata": {},
   "outputs": [
    {
     "data": {
      "text/html": [
       "<div>\n",
       "<style scoped>\n",
       "    .dataframe tbody tr th:only-of-type {\n",
       "        vertical-align: middle;\n",
       "    }\n",
       "\n",
       "    .dataframe tbody tr th {\n",
       "        vertical-align: top;\n",
       "    }\n",
       "\n",
       "    .dataframe thead th {\n",
       "        text-align: right;\n",
       "    }\n",
       "</style>\n",
       "<table border=\"1\" class=\"dataframe\">\n",
       "  <thead>\n",
       "    <tr style=\"text-align: right;\">\n",
       "      <th></th>\n",
       "      <th>tv_hours</th>\n",
       "      <th>physical_activity</th>\n",
       "    </tr>\n",
       "  </thead>\n",
       "  <tbody>\n",
       "    <tr>\n",
       "      <th>tv_hours</th>\n",
       "      <td>1.000000</td>\n",
       "      <td>-0.067228</td>\n",
       "    </tr>\n",
       "    <tr>\n",
       "      <th>physical_activity</th>\n",
       "      <td>-0.067228</td>\n",
       "      <td>1.000000</td>\n",
       "    </tr>\n",
       "  </tbody>\n",
       "</table>\n",
       "</div>"
      ],
      "text/plain": [
       "                   tv_hours  physical_activity\n",
       "tv_hours           1.000000          -0.067228\n",
       "physical_activity -0.067228           1.000000"
      ]
     },
     "execution_count": 44,
     "metadata": {},
     "output_type": "execute_result"
    }
   ],
   "source": [
    "spearman_corr"
   ]
  },
  {
   "cell_type": "markdown",
   "id": "a25e013e-7b84-4947-b232-64a58d54326e",
   "metadata": {},
   "source": [
    "**Q5. A survey was conducted to examine the relationship between age and preference for a particular brand of soft drink. The survey results are shown below:**"
   ]
  },
  {
   "cell_type": "code",
   "execution_count": 50,
   "id": "7a2f5a00-3e5d-4c61-9758-f46f18db6a77",
   "metadata": {},
   "outputs": [],
   "source": [
    "df=pd.DataFrame({'age':[25,42,37,19,31,28],'drink_preference':['coke','pepsi','mountain_dew','pepsi','coke','pepsi']})"
   ]
  },
  {
   "cell_type": "code",
   "execution_count": 54,
   "id": "e7dae36f-fad0-45fe-9881-99d85ff2f6fb",
   "metadata": {},
   "outputs": [
    {
     "data": {
      "text/plain": [
       "drink_preference\n",
       "coke            28.000000\n",
       "mountain_dew    37.000000\n",
       "pepsi           29.666667\n",
       "Name: age, dtype: float64"
      ]
     },
     "execution_count": 54,
     "metadata": {},
     "output_type": "execute_result"
    }
   ],
   "source": [
    "encoded=df.groupby('drink_preference')['age'].mean()\n",
    "encoded"
   ]
  },
  {
   "cell_type": "code",
   "execution_count": 55,
   "id": "0dea42e8-f0ce-48fd-a50a-853363a6d3b6",
   "metadata": {},
   "outputs": [],
   "source": [
    "df['encoded_data']=df['drink_preference'].map(encoded)"
   ]
  },
  {
   "cell_type": "code",
   "execution_count": 56,
   "id": "8f987b25-ef7d-4bdf-b4e6-2e090bec1eae",
   "metadata": {},
   "outputs": [
    {
     "data": {
      "text/html": [
       "<div>\n",
       "<style scoped>\n",
       "    .dataframe tbody tr th:only-of-type {\n",
       "        vertical-align: middle;\n",
       "    }\n",
       "\n",
       "    .dataframe tbody tr th {\n",
       "        vertical-align: top;\n",
       "    }\n",
       "\n",
       "    .dataframe thead th {\n",
       "        text-align: right;\n",
       "    }\n",
       "</style>\n",
       "<table border=\"1\" class=\"dataframe\">\n",
       "  <thead>\n",
       "    <tr style=\"text-align: right;\">\n",
       "      <th></th>\n",
       "      <th>age</th>\n",
       "      <th>drink_preference</th>\n",
       "      <th>encoded_data</th>\n",
       "    </tr>\n",
       "  </thead>\n",
       "  <tbody>\n",
       "    <tr>\n",
       "      <th>0</th>\n",
       "      <td>25</td>\n",
       "      <td>coke</td>\n",
       "      <td>28.000000</td>\n",
       "    </tr>\n",
       "    <tr>\n",
       "      <th>1</th>\n",
       "      <td>42</td>\n",
       "      <td>pepsi</td>\n",
       "      <td>29.666667</td>\n",
       "    </tr>\n",
       "    <tr>\n",
       "      <th>2</th>\n",
       "      <td>37</td>\n",
       "      <td>mountain_dew</td>\n",
       "      <td>37.000000</td>\n",
       "    </tr>\n",
       "    <tr>\n",
       "      <th>3</th>\n",
       "      <td>19</td>\n",
       "      <td>pepsi</td>\n",
       "      <td>29.666667</td>\n",
       "    </tr>\n",
       "    <tr>\n",
       "      <th>4</th>\n",
       "      <td>31</td>\n",
       "      <td>coke</td>\n",
       "      <td>28.000000</td>\n",
       "    </tr>\n",
       "    <tr>\n",
       "      <th>5</th>\n",
       "      <td>28</td>\n",
       "      <td>pepsi</td>\n",
       "      <td>29.666667</td>\n",
       "    </tr>\n",
       "  </tbody>\n",
       "</table>\n",
       "</div>"
      ],
      "text/plain": [
       "   age drink_preference  encoded_data\n",
       "0   25             coke     28.000000\n",
       "1   42            pepsi     29.666667\n",
       "2   37     mountain_dew     37.000000\n",
       "3   19            pepsi     29.666667\n",
       "4   31             coke     28.000000\n",
       "5   28            pepsi     29.666667"
      ]
     },
     "execution_count": 56,
     "metadata": {},
     "output_type": "execute_result"
    }
   ],
   "source": [
    "df"
   ]
  },
  {
   "cell_type": "code",
   "execution_count": 60,
   "id": "6cd84b4d-6166-4f92-a79a-a6724726c033",
   "metadata": {},
   "outputs": [
    {
     "data": {
      "text/html": [
       "<div>\n",
       "<style scoped>\n",
       "    .dataframe tbody tr th:only-of-type {\n",
       "        vertical-align: middle;\n",
       "    }\n",
       "\n",
       "    .dataframe tbody tr th {\n",
       "        vertical-align: top;\n",
       "    }\n",
       "\n",
       "    .dataframe thead th {\n",
       "        text-align: right;\n",
       "    }\n",
       "</style>\n",
       "<table border=\"1\" class=\"dataframe\">\n",
       "  <thead>\n",
       "    <tr style=\"text-align: right;\">\n",
       "      <th></th>\n",
       "      <th>age</th>\n",
       "      <th>encoded_data</th>\n",
       "    </tr>\n",
       "  </thead>\n",
       "  <tbody>\n",
       "    <tr>\n",
       "      <th>age</th>\n",
       "      <td>1.000000</td>\n",
       "      <td>0.339467</td>\n",
       "    </tr>\n",
       "    <tr>\n",
       "      <th>encoded_data</th>\n",
       "      <td>0.339467</td>\n",
       "      <td>1.000000</td>\n",
       "    </tr>\n",
       "  </tbody>\n",
       "</table>\n",
       "</div>"
      ],
      "text/plain": [
       "                   age  encoded_data\n",
       "age           1.000000      0.339467\n",
       "encoded_data  0.339467      1.000000"
      ]
     },
     "execution_count": 60,
     "metadata": {},
     "output_type": "execute_result"
    }
   ],
   "source": [
    "df[['age','encoded_data']].corr(method='spearman')"
   ]
  },
  {
   "cell_type": "code",
   "execution_count": 61,
   "id": "9eacae23-4547-4466-a2d3-24f57de690ce",
   "metadata": {},
   "outputs": [
    {
     "data": {
      "text/html": [
       "<div>\n",
       "<style scoped>\n",
       "    .dataframe tbody tr th:only-of-type {\n",
       "        vertical-align: middle;\n",
       "    }\n",
       "\n",
       "    .dataframe tbody tr th {\n",
       "        vertical-align: top;\n",
       "    }\n",
       "\n",
       "    .dataframe thead th {\n",
       "        text-align: right;\n",
       "    }\n",
       "</style>\n",
       "<table border=\"1\" class=\"dataframe\">\n",
       "  <thead>\n",
       "    <tr style=\"text-align: right;\">\n",
       "      <th></th>\n",
       "      <th>age</th>\n",
       "      <th>encoded_data</th>\n",
       "    </tr>\n",
       "  </thead>\n",
       "  <tbody>\n",
       "    <tr>\n",
       "      <th>age</th>\n",
       "      <td>1.000000</td>\n",
       "      <td>0.406262</td>\n",
       "    </tr>\n",
       "    <tr>\n",
       "      <th>encoded_data</th>\n",
       "      <td>0.406262</td>\n",
       "      <td>1.000000</td>\n",
       "    </tr>\n",
       "  </tbody>\n",
       "</table>\n",
       "</div>"
      ],
      "text/plain": [
       "                   age  encoded_data\n",
       "age           1.000000      0.406262\n",
       "encoded_data  0.406262      1.000000"
      ]
     },
     "execution_count": 61,
     "metadata": {},
     "output_type": "execute_result"
    }
   ],
   "source": [
    "df[['age','encoded_data']].corr(method='pearson')"
   ]
  },
  {
   "cell_type": "markdown",
   "id": "72199b99-7ed9-48b5-aa28-52eaa84360cc",
   "metadata": {},
   "source": [
    "**Q6. A company is interested in examining the relationship between the number of sales calls made per day and the number of sales made per week. The company collected data on both variables from a sample of 30 sales representatives. Calculate the Pearson correlation coefficient between these two variables.**"
   ]
  },
  {
   "cell_type": "code",
   "execution_count": 64,
   "id": "008ec08c-f058-4dc7-826c-e38cb8cca967",
   "metadata": {},
   "outputs": [
    {
     "data": {
      "text/html": [
       "<div>\n",
       "<style scoped>\n",
       "    .dataframe tbody tr th:only-of-type {\n",
       "        vertical-align: middle;\n",
       "    }\n",
       "\n",
       "    .dataframe tbody tr th {\n",
       "        vertical-align: top;\n",
       "    }\n",
       "\n",
       "    .dataframe thead th {\n",
       "        text-align: right;\n",
       "    }\n",
       "</style>\n",
       "<table border=\"1\" class=\"dataframe\">\n",
       "  <thead>\n",
       "    <tr style=\"text-align: right;\">\n",
       "      <th></th>\n",
       "      <th>sales_calls_per_day</th>\n",
       "      <th>sales_per_week</th>\n",
       "    </tr>\n",
       "  </thead>\n",
       "  <tbody>\n",
       "    <tr>\n",
       "      <th>0</th>\n",
       "      <td>15</td>\n",
       "      <td>50</td>\n",
       "    </tr>\n",
       "    <tr>\n",
       "      <th>1</th>\n",
       "      <td>20</td>\n",
       "      <td>55</td>\n",
       "    </tr>\n",
       "    <tr>\n",
       "      <th>2</th>\n",
       "      <td>10</td>\n",
       "      <td>45</td>\n",
       "    </tr>\n",
       "    <tr>\n",
       "      <th>3</th>\n",
       "      <td>25</td>\n",
       "      <td>60</td>\n",
       "    </tr>\n",
       "    <tr>\n",
       "      <th>4</th>\n",
       "      <td>18</td>\n",
       "      <td>53</td>\n",
       "    </tr>\n",
       "  </tbody>\n",
       "</table>\n",
       "</div>"
      ],
      "text/plain": [
       "   sales_calls_per_day  sales_per_week\n",
       "0                   15              50\n",
       "1                   20              55\n",
       "2                   10              45\n",
       "3                   25              60\n",
       "4                   18              53"
      ]
     },
     "execution_count": 64,
     "metadata": {},
     "output_type": "execute_result"
    }
   ],
   "source": [
    "df=pd.DataFrame({'sales_calls_per_day':[15, 20, 10, 25, 18, 12, 30, 22, 17, 21, 16, 19, 23, 14, 28, 26, 13, 24, 11, 27,\n",
    "                       29, 9, 31, 32, 8, 33, 34, 7, 35, 36],\n",
    "'sales_per_week':[50, 55, 45, 60, 53, 48, 65, 58, 52, 56, 51, 54, 57, 49, 63, 62, 47, 59, 46, 61,\n",
    "                  64, 44, 66, 67, 43, 68, 69, 42, 70, 71]})\n",
    "\n",
    "df.head()"
   ]
  },
  {
   "cell_type": "code",
   "execution_count": 65,
   "id": "8f62241e-b8b4-4946-aac7-b67c5135a375",
   "metadata": {},
   "outputs": [],
   "source": [
    "pearson_corr=df.corr(method='pearson')\n",
    "spearman_corr=df.corr(method='spearman')"
   ]
  },
  {
   "cell_type": "code",
   "execution_count": 66,
   "id": "b39d9fb2-495f-4bdd-a0b2-02c1a67fe455",
   "metadata": {},
   "outputs": [
    {
     "data": {
      "text/html": [
       "<div>\n",
       "<style scoped>\n",
       "    .dataframe tbody tr th:only-of-type {\n",
       "        vertical-align: middle;\n",
       "    }\n",
       "\n",
       "    .dataframe tbody tr th {\n",
       "        vertical-align: top;\n",
       "    }\n",
       "\n",
       "    .dataframe thead th {\n",
       "        text-align: right;\n",
       "    }\n",
       "</style>\n",
       "<table border=\"1\" class=\"dataframe\">\n",
       "  <thead>\n",
       "    <tr style=\"text-align: right;\">\n",
       "      <th></th>\n",
       "      <th>sales_calls_per_day</th>\n",
       "      <th>sales_per_week</th>\n",
       "    </tr>\n",
       "  </thead>\n",
       "  <tbody>\n",
       "    <tr>\n",
       "      <th>sales_calls_per_day</th>\n",
       "      <td>1.000000</td>\n",
       "      <td>0.998665</td>\n",
       "    </tr>\n",
       "    <tr>\n",
       "      <th>sales_per_week</th>\n",
       "      <td>0.998665</td>\n",
       "      <td>1.000000</td>\n",
       "    </tr>\n",
       "  </tbody>\n",
       "</table>\n",
       "</div>"
      ],
      "text/plain": [
       "                     sales_calls_per_day  sales_per_week\n",
       "sales_calls_per_day             1.000000        0.998665\n",
       "sales_per_week                  0.998665        1.000000"
      ]
     },
     "execution_count": 66,
     "metadata": {},
     "output_type": "execute_result"
    }
   ],
   "source": [
    "spearman_corr"
   ]
  },
  {
   "cell_type": "code",
   "execution_count": 67,
   "id": "8726a6db-a8d0-4f2d-8fe3-1da3cf1d448f",
   "metadata": {},
   "outputs": [
    {
     "data": {
      "text/html": [
       "<div>\n",
       "<style scoped>\n",
       "    .dataframe tbody tr th:only-of-type {\n",
       "        vertical-align: middle;\n",
       "    }\n",
       "\n",
       "    .dataframe tbody tr th {\n",
       "        vertical-align: top;\n",
       "    }\n",
       "\n",
       "    .dataframe thead th {\n",
       "        text-align: right;\n",
       "    }\n",
       "</style>\n",
       "<table border=\"1\" class=\"dataframe\">\n",
       "  <thead>\n",
       "    <tr style=\"text-align: right;\">\n",
       "      <th></th>\n",
       "      <th>sales_calls_per_day</th>\n",
       "      <th>sales_per_week</th>\n",
       "    </tr>\n",
       "  </thead>\n",
       "  <tbody>\n",
       "    <tr>\n",
       "      <th>sales_calls_per_day</th>\n",
       "      <td>1.000000</td>\n",
       "      <td>0.998665</td>\n",
       "    </tr>\n",
       "    <tr>\n",
       "      <th>sales_per_week</th>\n",
       "      <td>0.998665</td>\n",
       "      <td>1.000000</td>\n",
       "    </tr>\n",
       "  </tbody>\n",
       "</table>\n",
       "</div>"
      ],
      "text/plain": [
       "                     sales_calls_per_day  sales_per_week\n",
       "sales_calls_per_day             1.000000        0.998665\n",
       "sales_per_week                  0.998665        1.000000"
      ]
     },
     "execution_count": 67,
     "metadata": {},
     "output_type": "execute_result"
    }
   ],
   "source": [
    "pearson_corr"
   ]
  },
  {
   "cell_type": "code",
   "execution_count": null,
   "id": "e3cab21b-7d15-416a-9779-1f4b1a060097",
   "metadata": {},
   "outputs": [],
   "source": []
  }
 ],
 "metadata": {
  "kernelspec": {
   "display_name": "Python 3 (ipykernel)",
   "language": "python",
   "name": "python3"
  },
  "language_info": {
   "codemirror_mode": {
    "name": "ipython",
    "version": 3
   },
   "file_extension": ".py",
   "mimetype": "text/x-python",
   "name": "python",
   "nbconvert_exporter": "python",
   "pygments_lexer": "ipython3",
   "version": "3.11.4"
  }
 },
 "nbformat": 4,
 "nbformat_minor": 5
}
